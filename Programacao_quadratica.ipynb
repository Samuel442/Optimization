{
  "nbformat": 4,
  "nbformat_minor": 0,
  "metadata": {
    "colab": {
      "provenance": [],
      "authorship_tag": "ABX9TyNCFmGDezSj/7VbinUQxqQz",
      "include_colab_link": true
    },
    "kernelspec": {
      "name": "python3",
      "display_name": "Python 3"
    },
    "language_info": {
      "name": "python"
    }
  },
  "cells": [
    {
      "cell_type": "markdown",
      "metadata": {
        "id": "view-in-github",
        "colab_type": "text"
      },
      "source": [
        "<a href=\"https://colab.research.google.com/github/Samuel442/Optimization/blob/main/Programacao_quadratica.ipynb\" target=\"_parent\"><img src=\"https://colab.research.google.com/assets/colab-badge.svg\" alt=\"Open In Colab\"/></a>"
      ]
    },
    {
      "cell_type": "code",
      "execution_count": null,
      "metadata": {
        "id": "iOXhZUTl7J92"
      },
      "outputs": [],
      "source": [
        "import cvxpy as cp\n",
        "import numpy as np\n",
        "\n",
        "# Solicitar entrada do usuário para a matriz trajetoria_desejada\n",
        "n = int(input(\"Digite o número de pontos na trajetória: \"))\n",
        "d = int(input(\"Digite a dimensão dos pontos (3 para 3D): \"))\n",
        "\n",
        "print(\"Digite a matriz trajetoria_desejada:\")\n",
        "trajetoria_desejada = np.zeros((n, d))\n",
        "for i in range(n):\n",
        "    for j in range(d):\n",
        "        trajetoria_desejada[i, j] = float(input(f\"Digite o valor para o ponto {i+1}, coordenada {j+1}: \"))\n",
        "\n",
        "# Variáveis de otimização\n",
        "posicao = cp.Variable((n, d))\n",
        "\n",
        "# Restrições\n",
        "restricoes = [posicao >= 0]\n",
        "\n",
        "# Função objetivo\n",
        "funcao_objetivo = cp.Minimize(cp.sum_squares(posicao - trajetoria_desejada))\n",
        "\n",
        "# Problema de otimização\n",
        "problema = cp.Problem(funcao_objetivo, restricoes)\n",
        "\n",
        "# Resolver o problema\n",
        "problema.solve()\n",
        "\n",
        "# Verificar o status da solução\n",
        "print(\"Status da solução:\", problema.status)\n",
        "\n",
        "# Verificar se a solução é ótima\n",
        "if problema.status == \"optimal\":\n",
        "    # Obter a posição ótima\n",
        "    posicao_otima = posicao.value\n",
        "\n",
        "    # Exibir a posição ótima\n",
        "    print(\"Posição ótima:\")\n",
        "    print(posicao_otima)\n",
        "else:\n",
        "    print(\"Não foi possível encontrar uma solução ótima.\")\n"
      ]
    }
  ]
}