{
  "nbformat": 4,
  "nbformat_minor": 0,
  "metadata": {
    "colab": {
      "provenance": [],
      "authorship_tag": "ABX9TyPvt8TtKJgQWbBKeqAnt6Na",
      "include_colab_link": true
    },
    "kernelspec": {
      "name": "python3",
      "display_name": "Python 3"
    },
    "language_info": {
      "name": "python"
    }
  },
  "cells": [
    {
      "cell_type": "markdown",
      "metadata": {
        "id": "view-in-github",
        "colab_type": "text"
      },
      "source": [
        "<a href=\"https://colab.research.google.com/github/Samuel442/Optimization/blob/main/otimizacao_simplex.ipynb\" target=\"_parent\"><img src=\"https://colab.research.google.com/assets/colab-badge.svg\" alt=\"Open In Colab\"/></a>"
      ]
    },
    {
      "cell_type": "code",
      "execution_count": null,
      "metadata": {
        "colab": {
          "base_uri": "https://localhost:8080/"
        },
        "id": "RD9IKisXcFqg",
        "outputId": "b7536ce1-9d68-41c6-ea2e-19a0f4eeb0b5"
      },
      "outputs": [
        {
          "output_type": "stream",
          "name": "stdout",
          "text": [
            "Valor ótimo: -1170.0\n",
            "Solução ótima: [15. 85.]\n"
          ]
        },
        {
          "output_type": "stream",
          "name": "stderr",
          "text": [
            "<ipython-input-1-1c88153a4699>:22: DeprecationWarning: `method='simplex'` is deprecated and will be removed in SciPy 1.11.0. Please use one of the HiGHS solvers (e.g. `method='highs'`) in new code.\n",
            "  resposta = linprog(func_objtv_coef,                       # função objetivo\n"
          ]
        }
      ],
      "source": [
        "\n",
        "from scipy.optimize import linprog # importando a função linprog da biblioteca SciPy\n",
        "\n",
        "# Definir a função objetivo\n",
        "func_objtv_coef = [-10, -12]   # define a função objetivo na forma de uma lista\n",
        "\n",
        "# Definir as restrições\n",
        "# cada linha da matriz A corresponde a uma restrição\n",
        "cada_elemento_restricao = [[1, 1],    # primeira restrição\n",
        "                          [1, 3]]    # segunda restrição\n",
        "\n",
        "# o vetor b contém os valores das restrições\n",
        "depois_da_igualdade_restricao = [100, # da restrição 1\n",
        "                                 270] # da restrição 2\n",
        "\n",
        "# Definir os limites das variáveis\n",
        "x1_limite = (0,     # limite inferior é 0 porque a variável é positiva\n",
        "             None)  # limite superior é None o que significa que não há limite superior\n",
        "x2_limite = (0,     # limite inferior é 0 porque a variável é positiva\n",
        "             None)  # limite superior é None o que significa que não há limite superior\n",
        "\n",
        "# Resolver o problema usando linprog\n",
        "resposta = linprog(func_objtv_coef,                       # função objetivo\n",
        "                   A_ub = cada_elemento_restricao,        # restrição por coeficiente\n",
        "                   b_ub = depois_da_igualdade_restricao,  # restrição depois da igualdade\n",
        "                   bounds = [x1_limite, x2_limite],       # limite inferior e superior\n",
        "                   method='simplex')                      # usa o método simplex\n",
        "\n",
        "# Imprimir o resultado\n",
        "print('Valor ótimo:', resposta.fun)\n",
        "print('Solução ótima:', resposta.x)\n",
        "\n",
        "\n",
        "\n",
        "\n"
      ]
    },
    {
      "cell_type": "code",
      "source": [
        "\n"
      ],
      "metadata": {
        "colab": {
          "base_uri": "https://localhost:8080/",
          "height": 244
        },
        "id": "Aqk542mMm-rU",
        "outputId": "b59a0857-40bb-4bd2-caec-06d388b10c29"
      },
      "execution_count": null,
      "outputs": [
        {
          "output_type": "error",
          "ename": "error",
          "evalue": "ignored",
          "traceback": [
            "\u001b[0;31m---------------------------------------------------------------------------\u001b[0m",
            "\u001b[0;31merror\u001b[0m                                     Traceback (most recent call last)",
            "\u001b[0;32m<ipython-input-1-d7195181cb64>\u001b[0m in \u001b[0;36m<cell line: 10>\u001b[0;34m()\u001b[0m\n\u001b[1;32m     13\u001b[0m \u001b[0;34m\u001b[0m\u001b[0m\n\u001b[1;32m     14\u001b[0m     \u001b[0;31m# Convertendo a imagem para escala de cinza\u001b[0m\u001b[0;34m\u001b[0m\u001b[0;34m\u001b[0m\u001b[0m\n\u001b[0;32m---> 15\u001b[0;31m     \u001b[0mgray\u001b[0m \u001b[0;34m=\u001b[0m \u001b[0mcv2\u001b[0m\u001b[0;34m.\u001b[0m\u001b[0mcvtColor\u001b[0m\u001b[0;34m(\u001b[0m\u001b[0mimg\u001b[0m\u001b[0;34m,\u001b[0m \u001b[0mcv2\u001b[0m\u001b[0;34m.\u001b[0m\u001b[0mCOLOR_BGR2GRAY\u001b[0m\u001b[0;34m)\u001b[0m\u001b[0;34m\u001b[0m\u001b[0;34m\u001b[0m\u001b[0m\n\u001b[0m\u001b[1;32m     16\u001b[0m \u001b[0;34m\u001b[0m\u001b[0m\n\u001b[1;32m     17\u001b[0m     \u001b[0;31m# Detectando rostos na imagem\u001b[0m\u001b[0;34m\u001b[0m\u001b[0;34m\u001b[0m\u001b[0m\n",
            "\u001b[0;31merror\u001b[0m: OpenCV(4.7.0) /io/opencv/modules/imgproc/src/color.cpp:182: error: (-215:Assertion failed) !_src.empty() in function 'cvtColor'\n"
          ]
        }
      ]
    }
  ]
}